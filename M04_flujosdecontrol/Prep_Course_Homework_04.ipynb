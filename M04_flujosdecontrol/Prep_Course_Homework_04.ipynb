{
 "cells": [
  {
   "attachments": {},
   "cell_type": "markdown",
   "metadata": {},
   "source": [
    "## Flujos de Control"
   ]
  },
  {
   "attachments": {},
   "cell_type": "markdown",
   "metadata": {},
   "source": [
    "1) Crear una variable que contenga un elemento del conjunto de números enteros y luego imprimir por pantalla si es mayor o menor a cero"
   ]
  },
  {
   "cell_type": "code",
   "execution_count": 64,
   "metadata": {},
   "outputs": [
    {
     "name": "stdout",
     "output_type": "stream",
     "text": [
      "x es mayor que 0\n"
     ]
    }
   ],
   "source": [
    "x=2\n",
    "if x<0:\n",
    " print(\"x es menor que 0\")\n",
    "elif x>0:\n",
    " print(\"x es mayor que 0\")\n",
    "else:\n",
    " print(\"x es igual a 0\")"
   ]
  },
  {
   "attachments": {},
   "cell_type": "markdown",
   "metadata": {},
   "source": [
    "2) Crear dos variables y un condicional que informe si son del mismo tipo de dato"
   ]
  },
  {
   "cell_type": "code",
   "execution_count": 65,
   "metadata": {},
   "outputs": [
    {
     "name": "stdout",
     "output_type": "stream",
     "text": [
      "las variables son del mismo tipo\n"
     ]
    }
   ],
   "source": [
    "x='5'\n",
    "nmbre='juan'\n",
    "if type(x)==type(nmbre):\n",
    " print(\"las variables son del mismo tipo\")\n",
    "else:\n",
    " print(\"las variables son distintas\")\n",
    "\n"
   ]
  },
  {
   "attachments": {},
   "cell_type": "markdown",
   "metadata": {},
   "source": [
    "3) Para los valores enteros del 1 al 20, imprimir por pantalla si es par o impar"
   ]
  },
  {
   "cell_type": "code",
   "execution_count": 66,
   "metadata": {},
   "outputs": [
    {
     "name": "stdout",
     "output_type": "stream",
     "text": [
      "El numero 1 es impar\n",
      "El numero 2 es par\n",
      "El numero 3 es impar\n",
      "El numero 4 es par\n",
      "El numero 5 es impar\n",
      "El numero 6 es par\n",
      "El numero 7 es impar\n",
      "El numero 8 es par\n",
      "El numero 9 es impar\n",
      "El numero 10 es par\n",
      "El numero 11 es impar\n",
      "El numero 12 es par\n",
      "El numero 13 es impar\n",
      "El numero 14 es par\n",
      "El numero 15 es impar\n",
      "El numero 16 es par\n",
      "El numero 17 es impar\n",
      "El numero 18 es par\n",
      "El numero 19 es impar\n",
      "El numero 20 es par\n"
     ]
    }
   ],
   "source": [
    "\n",
    "\n",
    "for res in range(1,21):\n",
    "\n",
    " if res%2==0:\n",
    "  print ('El numero',str (res), 'es par')\n",
    " elif res!=0: \n",
    "  print ('El numero',str (res), 'es impar')\n",
    "\n",
    " \n"
   ]
  },
  {
   "attachments": {},
   "cell_type": "markdown",
   "metadata": {},
   "source": [
    "4) En un ciclo for mostrar para los valores entre 0 y 5 el resultado de elevarlo a la potencia igual a 3"
   ]
  },
  {
   "cell_type": "code",
   "execution_count": 67,
   "metadata": {},
   "outputs": [
    {
     "name": "stdout",
     "output_type": "stream",
     "text": [
      "0\n",
      "1\n",
      "8\n",
      "27\n",
      "64\n",
      "125\n"
     ]
    }
   ],
   "source": [
    "for a in range(0,6):\n",
    " a=a**3\n",
    " print (a)"
   ]
  },
  {
   "attachments": {},
   "cell_type": "markdown",
   "metadata": {},
   "source": [
    "5) Crear una variable que contenga un número entero y realizar un ciclo for la misma cantidad de ciclos"
   ]
  },
  {
   "cell_type": "code",
   "execution_count": 68,
   "metadata": {},
   "outputs": [
    {
     "name": "stdout",
     "output_type": "stream",
     "text": [
      "0\n",
      "1\n",
      "2\n",
      "3\n"
     ]
    }
   ],
   "source": [
    "x=4\n",
    "for i in range(x):\n",
    " print(i)"
   ]
  },
  {
   "attachments": {},
   "cell_type": "markdown",
   "metadata": {},
   "source": [
    "6) Utilizar un ciclo while para realizar el factorial de un número guardado en una variable, sólo si la variable contiene un número entero mayor a 0"
   ]
  },
  {
   "cell_type": "code",
   "execution_count": 84,
   "metadata": {},
   "outputs": [
    {
     "name": "stdout",
     "output_type": "stream",
     "text": [
      "120\n"
     ]
    }
   ],
   "source": [
    "x=5\n",
    "\n",
    "if x>0:\n",
    " fact=x\n",
    " while x>1:\n",
    "  x-=1\n",
    "  fact=fact*(x)\n",
    " print(fact)\n",
    "else:\n",
    " print(\"la variable es menor o igual a 0\")"
   ]
  },
  {
   "attachments": {},
   "cell_type": "markdown",
   "metadata": {},
   "source": [
    "7) Crear un ciclo for dentro de un ciclo while"
   ]
  },
  {
   "cell_type": "code",
   "execution_count": 91,
   "metadata": {},
   "outputs": [
    {
     "name": "stdout",
     "output_type": "stream",
     "text": [
      "La multiplicacion de los numeros decimales sin incluir el 0 son: 2\n",
      "La multiplicacion de los numeros decimales sin incluir el 0 son: 4\n",
      "La multiplicacion de los numeros decimales sin incluir el 0 son: 6\n",
      "La multiplicacion de los numeros decimales sin incluir el 0 son: 8\n",
      "La multiplicacion de los numeros decimales sin incluir el 0 son: 10\n",
      "La multiplicacion de los numeros decimales sin incluir el 0 son: 12\n",
      "La multiplicacion de los numeros decimales sin incluir el 0 son: 14\n",
      "La multiplicacion de los numeros decimales sin incluir el 0 son: 16\n",
      "La multiplicacion de los numeros decimales sin incluir el 0 son: 3\n",
      "La multiplicacion de los numeros decimales sin incluir el 0 son: 6\n",
      "La multiplicacion de los numeros decimales sin incluir el 0 son: 9\n",
      "La multiplicacion de los numeros decimales sin incluir el 0 son: 12\n",
      "La multiplicacion de los numeros decimales sin incluir el 0 son: 15\n",
      "La multiplicacion de los numeros decimales sin incluir el 0 son: 18\n",
      "La multiplicacion de los numeros decimales sin incluir el 0 son: 21\n",
      "La multiplicacion de los numeros decimales sin incluir el 0 son: 24\n",
      "La multiplicacion de los numeros decimales sin incluir el 0 son: 4\n",
      "La multiplicacion de los numeros decimales sin incluir el 0 son: 8\n",
      "La multiplicacion de los numeros decimales sin incluir el 0 son: 12\n",
      "La multiplicacion de los numeros decimales sin incluir el 0 son: 16\n",
      "La multiplicacion de los numeros decimales sin incluir el 0 son: 20\n",
      "La multiplicacion de los numeros decimales sin incluir el 0 son: 24\n",
      "La multiplicacion de los numeros decimales sin incluir el 0 son: 28\n",
      "La multiplicacion de los numeros decimales sin incluir el 0 son: 32\n",
      "La multiplicacion de los numeros decimales sin incluir el 0 son: 5\n",
      "La multiplicacion de los numeros decimales sin incluir el 0 son: 10\n",
      "La multiplicacion de los numeros decimales sin incluir el 0 son: 15\n",
      "La multiplicacion de los numeros decimales sin incluir el 0 son: 20\n",
      "La multiplicacion de los numeros decimales sin incluir el 0 son: 25\n",
      "La multiplicacion de los numeros decimales sin incluir el 0 son: 30\n",
      "La multiplicacion de los numeros decimales sin incluir el 0 son: 35\n",
      "La multiplicacion de los numeros decimales sin incluir el 0 son: 40\n",
      "La multiplicacion de los numeros decimales sin incluir el 0 son: 6\n",
      "La multiplicacion de los numeros decimales sin incluir el 0 son: 12\n",
      "La multiplicacion de los numeros decimales sin incluir el 0 son: 18\n",
      "La multiplicacion de los numeros decimales sin incluir el 0 son: 24\n",
      "La multiplicacion de los numeros decimales sin incluir el 0 son: 30\n",
      "La multiplicacion de los numeros decimales sin incluir el 0 son: 36\n",
      "La multiplicacion de los numeros decimales sin incluir el 0 son: 42\n",
      "La multiplicacion de los numeros decimales sin incluir el 0 son: 48\n",
      "La multiplicacion de los numeros decimales sin incluir el 0 son: 7\n",
      "La multiplicacion de los numeros decimales sin incluir el 0 son: 14\n",
      "La multiplicacion de los numeros decimales sin incluir el 0 son: 21\n",
      "La multiplicacion de los numeros decimales sin incluir el 0 son: 28\n",
      "La multiplicacion de los numeros decimales sin incluir el 0 son: 35\n",
      "La multiplicacion de los numeros decimales sin incluir el 0 son: 42\n",
      "La multiplicacion de los numeros decimales sin incluir el 0 son: 49\n",
      "La multiplicacion de los numeros decimales sin incluir el 0 son: 56\n",
      "La multiplicacion de los numeros decimales sin incluir el 0 son: 8\n",
      "La multiplicacion de los numeros decimales sin incluir el 0 son: 16\n",
      "La multiplicacion de los numeros decimales sin incluir el 0 son: 24\n",
      "La multiplicacion de los numeros decimales sin incluir el 0 son: 32\n",
      "La multiplicacion de los numeros decimales sin incluir el 0 son: 40\n",
      "La multiplicacion de los numeros decimales sin incluir el 0 son: 48\n",
      "La multiplicacion de los numeros decimales sin incluir el 0 son: 56\n",
      "La multiplicacion de los numeros decimales sin incluir el 0 son: 64\n",
      "La multiplicacion de los numeros decimales sin incluir el 0 son: 9\n",
      "La multiplicacion de los numeros decimales sin incluir el 0 son: 18\n",
      "La multiplicacion de los numeros decimales sin incluir el 0 son: 27\n",
      "La multiplicacion de los numeros decimales sin incluir el 0 son: 36\n",
      "La multiplicacion de los numeros decimales sin incluir el 0 son: 45\n",
      "La multiplicacion de los numeros decimales sin incluir el 0 son: 54\n",
      "La multiplicacion de los numeros decimales sin incluir el 0 son: 63\n",
      "La multiplicacion de los numeros decimales sin incluir el 0 son: 72\n"
     ]
    }
   ],
   "source": [
    "x=1\n",
    "while x<9:\n",
    " x+=1\n",
    " for i in range (1,9):\n",
    "  i=i*x\n",
    "  print(\"La multiplicacion de los numeros decimales sin incluir el 0 son:\",str(i))"
   ]
  },
  {
   "attachments": {},
   "cell_type": "markdown",
   "metadata": {},
   "source": [
    "8) Crear un ciclo while dentro de un ciclo for"
   ]
  },
  {
   "cell_type": "code",
   "execution_count": 94,
   "metadata": {},
   "outputs": [
    {
     "name": "stdout",
     "output_type": "stream",
     "text": [
      "2\n",
      "4\n",
      "8\n",
      "16\n",
      "32\n",
      "64\n",
      "128\n",
      "4\n",
      "8\n",
      "16\n",
      "32\n",
      "64\n",
      "128\n",
      "6\n",
      "12\n",
      "24\n",
      "48\n",
      "96\n",
      "192\n",
      "8\n",
      "16\n",
      "32\n",
      "64\n",
      "128\n"
     ]
    }
   ],
   "source": [
    "for i in range (1,5):\n",
    " while i<100:\n",
    "  i*=2\n",
    "  print (i)"
   ]
  },
  {
   "attachments": {},
   "cell_type": "markdown",
   "metadata": {},
   "source": [
    "9) Imprimir los números primos existentes entre 0 y 30"
   ]
  },
  {
   "cell_type": "code",
   "execution_count": 141,
   "metadata": {},
   "outputs": [
    {
     "name": "stdout",
     "output_type": "stream",
     "text": [
      "0\n",
      "1\n",
      "2\n",
      "3\n",
      "5\n",
      "7\n",
      "11\n",
      "13\n",
      "17\n",
      "19\n",
      "23\n",
      "29\n"
     ]
    }
   ],
   "source": [
    "x=30\n",
    "n = 0\n",
    "primo = True\n",
    "while (n < x):\n",
    "    for div in range(2, n):\n",
    "        if (n % div == 0):\n",
    "            primo = False\n",
    "    if (primo):\n",
    "        print(n)\n",
    "    else:\n",
    "        primo = True\n",
    "    n += 1\n",
    "            "
   ]
  },
  {
   "attachments": {},
   "cell_type": "markdown",
   "metadata": {},
   "source": [
    "10) ¿Se puede mejorar el proceso del punto 9? Utilizar las sentencias break y/ó continue para tal fin"
   ]
  },
  {
   "cell_type": "code",
   "execution_count": 162,
   "metadata": {},
   "outputs": [],
   "source": [
    "for i in range(1,30):\n",
    "    x=i%i\n",
    "    if x!=0:\n",
    "     print (str,(i))\n",
    "    break"
   ]
  },
  {
   "attachments": {},
   "cell_type": "markdown",
   "metadata": {},
   "source": [
    "11) En los puntos 9 y 10, se diseño un código que encuentra números primos y además se lo optimizó. ¿Es posible saber en qué medida se optimizó?"
   ]
  },
  {
   "cell_type": "code",
   "execution_count": null,
   "metadata": {},
   "outputs": [],
   "source": []
  },
  {
   "attachments": {},
   "cell_type": "markdown",
   "metadata": {},
   "source": [
    "12) Aplicando continue, armar un ciclo while que solo imprima los valores divisibles por 12, dentro del rango de números de 100 a 300"
   ]
  },
  {
   "cell_type": "code",
   "execution_count": 167,
   "metadata": {},
   "outputs": [
    {
     "name": "stdout",
     "output_type": "stream",
     "text": [
      "108  es divisible por 12\n",
      "120  es divisible por 12\n",
      "132  es divisible por 12\n",
      "144  es divisible por 12\n",
      "156  es divisible por 12\n",
      "168  es divisible por 12\n",
      "180  es divisible por 12\n",
      "192  es divisible por 12\n",
      "204  es divisible por 12\n",
      "216  es divisible por 12\n",
      "228  es divisible por 12\n",
      "240  es divisible por 12\n",
      "252  es divisible por 12\n",
      "264  es divisible por 12\n",
      "276  es divisible por 12\n",
      "288  es divisible por 12\n",
      "300  es divisible por 12\n"
     ]
    }
   ],
   "source": [
    "n = 99\n",
    "while(n <= 300):\n",
    "    n += 1\n",
    "    if (n % 12 != 0):\n",
    "        continue\n",
    "    print(n, ' es divisible por 12')"
   ]
  },
  {
   "attachments": {},
   "cell_type": "markdown",
   "metadata": {},
   "source": [
    "13) Utilizar la función **input()** que permite hacer ingresos por teclado, para encontrar números primos y dar la opción al usario de buscar el siguiente"
   ]
  },
  {
   "cell_type": "code",
   "execution_count": 171,
   "metadata": {},
   "outputs": [
    {
     "name": "stdout",
     "output_type": "stream",
     "text": [
      "1\n",
      "¿Desea encontrar el siguiente número primo?\n",
      "2\n",
      "¿Desea encontrar el siguiente número primo?\n",
      "3\n",
      "¿Desea encontrar el siguiente número primo?\n",
      "5\n",
      "¿Desea encontrar el siguiente número primo?\n",
      "7\n",
      "¿Desea encontrar el siguiente número primo?\n",
      "11\n",
      "¿Desea encontrar el siguiente número primo?\n",
      "13\n",
      "¿Desea encontrar el siguiente número primo?\n",
      "17\n",
      "¿Desea encontrar el siguiente número primo?\n",
      "19\n",
      "¿Desea encontrar el siguiente número primo?\n",
      "Se finaliza el proceso\n"
     ]
    }
   ],
   "source": [
    "n = 1\n",
    "sigue = 1\n",
    "primo = True\n",
    "while (sigue == 1):\n",
    "    for div in range(2, n):\n",
    "        if (n % div == 0):\n",
    "            primo = False\n",
    "            break\n",
    "    if (primo):\n",
    "        print(n)\n",
    "        print('¿Desea encontrar el siguiente número primo?')\n",
    "        if (input() != '1'):\n",
    "            print('Se finaliza el proceso')\n",
    "            break\n",
    "    else:\n",
    "        primo = True\n",
    "    n += 1"
   ]
  },
  {
   "attachments": {},
   "cell_type": "markdown",
   "metadata": {},
   "source": [
    "14) Crear un ciclo while que encuentre dentro del rango de 100 a 300 el primer número divisible por 3 y además múltiplo de 6"
   ]
  },
  {
   "cell_type": "code",
   "execution_count": 180,
   "metadata": {},
   "outputs": [
    {
     "name": "stdout",
     "output_type": "stream",
     "text": [
      "el numero 102 es divisible y multiplo de 6\n"
     ]
    }
   ],
   "source": [
    "x=100\n",
    "while x<=300:\n",
    "    x+=1\n",
    "    y=x%6\n",
    "    if y==0:\n",
    "     print ('el numero',str(x),\"es divisible y multiplo de 6\")\n",
    "     break"
   ]
  }
 ],
 "metadata": {
  "interpreter": {
   "hash": "c85384e4cb51c8b72350f3a8712cc8351fdc3955e32a27f9b60c6242ab125f01"
  },
  "kernelspec": {
   "display_name": "Python 3 (ipykernel)",
   "language": "python",
   "name": "python3"
  },
  "language_info": {
   "codemirror_mode": {
    "name": "ipython",
    "version": 3
   },
   "file_extension": ".py",
   "mimetype": "text/x-python",
   "name": "python",
   "nbconvert_exporter": "python",
   "pygments_lexer": "ipython3",
   "version": "3.10.6"
  }
 },
 "nbformat": 4,
 "nbformat_minor": 4
}
